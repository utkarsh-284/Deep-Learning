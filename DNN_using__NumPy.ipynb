{
  "nbformat": 4,
  "nbformat_minor": 0,
  "metadata": {
    "colab": {
      "provenance": [],
      "authorship_tag": "ABX9TyNsyA+lyImo+sXYNnpAtCNE",
      "include_colab_link": true
    },
    "kernelspec": {
      "name": "python3",
      "display_name": "Python 3"
    },
    "language_info": {
      "name": "python"
    }
  },
  "cells": [
    {
      "cell_type": "markdown",
      "metadata": {
        "id": "view-in-github",
        "colab_type": "text"
      },
      "source": [
        "<a href=\"https://colab.research.google.com/github/utkarsh-284/Deep-Learning/blob/main/DNN_using__NumPy.ipynb\" target=\"_parent\"><img src=\"https://colab.research.google.com/assets/colab-badge.svg\" alt=\"Open In Colab\"/></a>"
      ]
    },
    {
      "cell_type": "markdown",
      "source": [
        "<h1 align=\"center\">Digit Recognition usinng DNN (only NumPy)</h1>"
      ],
      "metadata": {
        "id": "Br8hyOTKCB4e"
      }
    },
    {
      "cell_type": "markdown",
      "source": [
        "# Introduction\n",
        "Digit recognition is a fundamental problem in computer vision and machine learning, serving as a benchmark for evaluating the effectiveness of various algorithms. The Modified National Institute of Standards and Technology (MNIST) dataset, consisting of 28×28 grayscale images of handwritten digits (0–9), is widely used for training and testing machine learning models. In this project, we implement a **Deep Neural Network (DNN) from scratch using only NumPy**, demonstrating the core principles of neural networks—forward propagation, backpropagation, and gradient descent—without relying on high-level frameworks like TensorFlow or PyTorch.\n",
        "\n",
        "## Key Objectives:\n",
        "* **Understand Neural Network Fundamentals:** Implement a multi-layer perceptron (MLP) with input, hidden, and output layers.\n",
        "\n",
        "* **Hands-on Learning:** Build all components—activation functions (ReLU, Softmax), loss functions (Cross-Entropy), and optimization (Mini-batch Gradient Descent)—using NumPy.\n",
        "\n",
        "* **Achieve High Accuracy:** Train the model to classify digits with ~95% validation accuracy, validating the correctness of the implementation.\n",
        "\n",
        "* **Scalability:** Ensure the code can be extended for deeper architectures or other datasets.\n",
        "\n",
        "## Challenges Addressed:\n",
        "* **Numerical Stability:** Handling softmax and log operations with safeguards like 1e-8 to avoid division by zero.\n",
        "\n",
        "* **Efficient Backpropagation:** Correctly computing gradients for weight updates.\n",
        "\n",
        "* **Hyperparameter Tuning:** Selecting learning rates, batch sizes, and initialization (He initialization) for optimal convergence."
      ],
      "metadata": {
        "id": "uDyGP5crIsyB"
      }
    },
    {
      "cell_type": "markdown",
      "source": [
        "# Importing libraries"
      ],
      "metadata": {
        "id": "uXq8bfa-CXKx"
      }
    },
    {
      "cell_type": "code",
      "execution_count": null,
      "metadata": {
        "id": "tEcA53ce0Sv1"
      },
      "outputs": [],
      "source": [
        "import numpy as np\n",
        "import pandas as pd\n",
        "from sklearn.model_selection import train_test_split"
      ]
    },
    {
      "cell_type": "markdown",
      "source": [
        "# Loading and Exploring data"
      ],
      "metadata": {
        "id": "vJx8YnrmClK1"
      }
    },
    {
      "cell_type": "code",
      "source": [
        "train_df = pd.read_csv('train.csv')\n",
        "\n",
        "train_df.head()"
      ],
      "metadata": {
        "colab": {
          "base_uri": "https://localhost:8080/",
          "height": 255
        },
        "id": "tM3pFGLR6wBG",
        "outputId": "5f18c7fc-5771-4e35-f8cf-2c3aec208dec"
      },
      "execution_count": null,
      "outputs": [
        {
          "output_type": "execute_result",
          "data": {
            "text/plain": [
              "   label  pixel0  pixel1  pixel2  pixel3  pixel4  pixel5  pixel6  pixel7  \\\n",
              "0      1       0       0       0       0       0       0       0       0   \n",
              "1      0       0       0       0       0       0       0       0       0   \n",
              "2      1       0       0       0       0       0       0       0       0   \n",
              "3      4       0       0       0       0       0       0       0       0   \n",
              "4      0       0       0       0       0       0       0       0       0   \n",
              "\n",
              "   pixel8  ...  pixel774  pixel775  pixel776  pixel777  pixel778  pixel779  \\\n",
              "0       0  ...         0         0         0         0         0         0   \n",
              "1       0  ...         0         0         0         0         0         0   \n",
              "2       0  ...         0         0         0         0         0         0   \n",
              "3       0  ...         0         0         0         0         0         0   \n",
              "4       0  ...         0         0         0         0         0         0   \n",
              "\n",
              "   pixel780  pixel781  pixel782  pixel783  \n",
              "0         0         0         0         0  \n",
              "1         0         0         0         0  \n",
              "2         0         0         0         0  \n",
              "3         0         0         0         0  \n",
              "4         0         0         0         0  \n",
              "\n",
              "[5 rows x 785 columns]"
            ],
            "text/html": [
              "\n",
              "  <div id=\"df-ef13173e-963a-4146-a604-06157101bcce\" class=\"colab-df-container\">\n",
              "    <div>\n",
              "<style scoped>\n",
              "    .dataframe tbody tr th:only-of-type {\n",
              "        vertical-align: middle;\n",
              "    }\n",
              "\n",
              "    .dataframe tbody tr th {\n",
              "        vertical-align: top;\n",
              "    }\n",
              "\n",
              "    .dataframe thead th {\n",
              "        text-align: right;\n",
              "    }\n",
              "</style>\n",
              "<table border=\"1\" class=\"dataframe\">\n",
              "  <thead>\n",
              "    <tr style=\"text-align: right;\">\n",
              "      <th></th>\n",
              "      <th>label</th>\n",
              "      <th>pixel0</th>\n",
              "      <th>pixel1</th>\n",
              "      <th>pixel2</th>\n",
              "      <th>pixel3</th>\n",
              "      <th>pixel4</th>\n",
              "      <th>pixel5</th>\n",
              "      <th>pixel6</th>\n",
              "      <th>pixel7</th>\n",
              "      <th>pixel8</th>\n",
              "      <th>...</th>\n",
              "      <th>pixel774</th>\n",
              "      <th>pixel775</th>\n",
              "      <th>pixel776</th>\n",
              "      <th>pixel777</th>\n",
              "      <th>pixel778</th>\n",
              "      <th>pixel779</th>\n",
              "      <th>pixel780</th>\n",
              "      <th>pixel781</th>\n",
              "      <th>pixel782</th>\n",
              "      <th>pixel783</th>\n",
              "    </tr>\n",
              "  </thead>\n",
              "  <tbody>\n",
              "    <tr>\n",
              "      <th>0</th>\n",
              "      <td>1</td>\n",
              "      <td>0</td>\n",
              "      <td>0</td>\n",
              "      <td>0</td>\n",
              "      <td>0</td>\n",
              "      <td>0</td>\n",
              "      <td>0</td>\n",
              "      <td>0</td>\n",
              "      <td>0</td>\n",
              "      <td>0</td>\n",
              "      <td>...</td>\n",
              "      <td>0</td>\n",
              "      <td>0</td>\n",
              "      <td>0</td>\n",
              "      <td>0</td>\n",
              "      <td>0</td>\n",
              "      <td>0</td>\n",
              "      <td>0</td>\n",
              "      <td>0</td>\n",
              "      <td>0</td>\n",
              "      <td>0</td>\n",
              "    </tr>\n",
              "    <tr>\n",
              "      <th>1</th>\n",
              "      <td>0</td>\n",
              "      <td>0</td>\n",
              "      <td>0</td>\n",
              "      <td>0</td>\n",
              "      <td>0</td>\n",
              "      <td>0</td>\n",
              "      <td>0</td>\n",
              "      <td>0</td>\n",
              "      <td>0</td>\n",
              "      <td>0</td>\n",
              "      <td>...</td>\n",
              "      <td>0</td>\n",
              "      <td>0</td>\n",
              "      <td>0</td>\n",
              "      <td>0</td>\n",
              "      <td>0</td>\n",
              "      <td>0</td>\n",
              "      <td>0</td>\n",
              "      <td>0</td>\n",
              "      <td>0</td>\n",
              "      <td>0</td>\n",
              "    </tr>\n",
              "    <tr>\n",
              "      <th>2</th>\n",
              "      <td>1</td>\n",
              "      <td>0</td>\n",
              "      <td>0</td>\n",
              "      <td>0</td>\n",
              "      <td>0</td>\n",
              "      <td>0</td>\n",
              "      <td>0</td>\n",
              "      <td>0</td>\n",
              "      <td>0</td>\n",
              "      <td>0</td>\n",
              "      <td>...</td>\n",
              "      <td>0</td>\n",
              "      <td>0</td>\n",
              "      <td>0</td>\n",
              "      <td>0</td>\n",
              "      <td>0</td>\n",
              "      <td>0</td>\n",
              "      <td>0</td>\n",
              "      <td>0</td>\n",
              "      <td>0</td>\n",
              "      <td>0</td>\n",
              "    </tr>\n",
              "    <tr>\n",
              "      <th>3</th>\n",
              "      <td>4</td>\n",
              "      <td>0</td>\n",
              "      <td>0</td>\n",
              "      <td>0</td>\n",
              "      <td>0</td>\n",
              "      <td>0</td>\n",
              "      <td>0</td>\n",
              "      <td>0</td>\n",
              "      <td>0</td>\n",
              "      <td>0</td>\n",
              "      <td>...</td>\n",
              "      <td>0</td>\n",
              "      <td>0</td>\n",
              "      <td>0</td>\n",
              "      <td>0</td>\n",
              "      <td>0</td>\n",
              "      <td>0</td>\n",
              "      <td>0</td>\n",
              "      <td>0</td>\n",
              "      <td>0</td>\n",
              "      <td>0</td>\n",
              "    </tr>\n",
              "    <tr>\n",
              "      <th>4</th>\n",
              "      <td>0</td>\n",
              "      <td>0</td>\n",
              "      <td>0</td>\n",
              "      <td>0</td>\n",
              "      <td>0</td>\n",
              "      <td>0</td>\n",
              "      <td>0</td>\n",
              "      <td>0</td>\n",
              "      <td>0</td>\n",
              "      <td>0</td>\n",
              "      <td>...</td>\n",
              "      <td>0</td>\n",
              "      <td>0</td>\n",
              "      <td>0</td>\n",
              "      <td>0</td>\n",
              "      <td>0</td>\n",
              "      <td>0</td>\n",
              "      <td>0</td>\n",
              "      <td>0</td>\n",
              "      <td>0</td>\n",
              "      <td>0</td>\n",
              "    </tr>\n",
              "  </tbody>\n",
              "</table>\n",
              "<p>5 rows × 785 columns</p>\n",
              "</div>\n",
              "    <div class=\"colab-df-buttons\">\n",
              "\n",
              "  <div class=\"colab-df-container\">\n",
              "    <button class=\"colab-df-convert\" onclick=\"convertToInteractive('df-ef13173e-963a-4146-a604-06157101bcce')\"\n",
              "            title=\"Convert this dataframe to an interactive table.\"\n",
              "            style=\"display:none;\">\n",
              "\n",
              "  <svg xmlns=\"http://www.w3.org/2000/svg\" height=\"24px\" viewBox=\"0 -960 960 960\">\n",
              "    <path d=\"M120-120v-720h720v720H120Zm60-500h600v-160H180v160Zm220 220h160v-160H400v160Zm0 220h160v-160H400v160ZM180-400h160v-160H180v160Zm440 0h160v-160H620v160ZM180-180h160v-160H180v160Zm440 0h160v-160H620v160Z\"/>\n",
              "  </svg>\n",
              "    </button>\n",
              "\n",
              "  <style>\n",
              "    .colab-df-container {\n",
              "      display:flex;\n",
              "      gap: 12px;\n",
              "    }\n",
              "\n",
              "    .colab-df-convert {\n",
              "      background-color: #E8F0FE;\n",
              "      border: none;\n",
              "      border-radius: 50%;\n",
              "      cursor: pointer;\n",
              "      display: none;\n",
              "      fill: #1967D2;\n",
              "      height: 32px;\n",
              "      padding: 0 0 0 0;\n",
              "      width: 32px;\n",
              "    }\n",
              "\n",
              "    .colab-df-convert:hover {\n",
              "      background-color: #E2EBFA;\n",
              "      box-shadow: 0px 1px 2px rgba(60, 64, 67, 0.3), 0px 1px 3px 1px rgba(60, 64, 67, 0.15);\n",
              "      fill: #174EA6;\n",
              "    }\n",
              "\n",
              "    .colab-df-buttons div {\n",
              "      margin-bottom: 4px;\n",
              "    }\n",
              "\n",
              "    [theme=dark] .colab-df-convert {\n",
              "      background-color: #3B4455;\n",
              "      fill: #D2E3FC;\n",
              "    }\n",
              "\n",
              "    [theme=dark] .colab-df-convert:hover {\n",
              "      background-color: #434B5C;\n",
              "      box-shadow: 0px 1px 3px 1px rgba(0, 0, 0, 0.15);\n",
              "      filter: drop-shadow(0px 1px 2px rgba(0, 0, 0, 0.3));\n",
              "      fill: #FFFFFF;\n",
              "    }\n",
              "  </style>\n",
              "\n",
              "    <script>\n",
              "      const buttonEl =\n",
              "        document.querySelector('#df-ef13173e-963a-4146-a604-06157101bcce button.colab-df-convert');\n",
              "      buttonEl.style.display =\n",
              "        google.colab.kernel.accessAllowed ? 'block' : 'none';\n",
              "\n",
              "      async function convertToInteractive(key) {\n",
              "        const element = document.querySelector('#df-ef13173e-963a-4146-a604-06157101bcce');\n",
              "        const dataTable =\n",
              "          await google.colab.kernel.invokeFunction('convertToInteractive',\n",
              "                                                    [key], {});\n",
              "        if (!dataTable) return;\n",
              "\n",
              "        const docLinkHtml = 'Like what you see? Visit the ' +\n",
              "          '<a target=\"_blank\" href=https://colab.research.google.com/notebooks/data_table.ipynb>data table notebook</a>'\n",
              "          + ' to learn more about interactive tables.';\n",
              "        element.innerHTML = '';\n",
              "        dataTable['output_type'] = 'display_data';\n",
              "        await google.colab.output.renderOutput(dataTable, element);\n",
              "        const docLink = document.createElement('div');\n",
              "        docLink.innerHTML = docLinkHtml;\n",
              "        element.appendChild(docLink);\n",
              "      }\n",
              "    </script>\n",
              "  </div>\n",
              "\n",
              "\n",
              "    <div id=\"df-ba0f8c3f-9b5c-40d1-b962-d75fbd297ec6\">\n",
              "      <button class=\"colab-df-quickchart\" onclick=\"quickchart('df-ba0f8c3f-9b5c-40d1-b962-d75fbd297ec6')\"\n",
              "                title=\"Suggest charts\"\n",
              "                style=\"display:none;\">\n",
              "\n",
              "<svg xmlns=\"http://www.w3.org/2000/svg\" height=\"24px\"viewBox=\"0 0 24 24\"\n",
              "     width=\"24px\">\n",
              "    <g>\n",
              "        <path d=\"M19 3H5c-1.1 0-2 .9-2 2v14c0 1.1.9 2 2 2h14c1.1 0 2-.9 2-2V5c0-1.1-.9-2-2-2zM9 17H7v-7h2v7zm4 0h-2V7h2v10zm4 0h-2v-4h2v4z\"/>\n",
              "    </g>\n",
              "</svg>\n",
              "      </button>\n",
              "\n",
              "<style>\n",
              "  .colab-df-quickchart {\n",
              "      --bg-color: #E8F0FE;\n",
              "      --fill-color: #1967D2;\n",
              "      --hover-bg-color: #E2EBFA;\n",
              "      --hover-fill-color: #174EA6;\n",
              "      --disabled-fill-color: #AAA;\n",
              "      --disabled-bg-color: #DDD;\n",
              "  }\n",
              "\n",
              "  [theme=dark] .colab-df-quickchart {\n",
              "      --bg-color: #3B4455;\n",
              "      --fill-color: #D2E3FC;\n",
              "      --hover-bg-color: #434B5C;\n",
              "      --hover-fill-color: #FFFFFF;\n",
              "      --disabled-bg-color: #3B4455;\n",
              "      --disabled-fill-color: #666;\n",
              "  }\n",
              "\n",
              "  .colab-df-quickchart {\n",
              "    background-color: var(--bg-color);\n",
              "    border: none;\n",
              "    border-radius: 50%;\n",
              "    cursor: pointer;\n",
              "    display: none;\n",
              "    fill: var(--fill-color);\n",
              "    height: 32px;\n",
              "    padding: 0;\n",
              "    width: 32px;\n",
              "  }\n",
              "\n",
              "  .colab-df-quickchart:hover {\n",
              "    background-color: var(--hover-bg-color);\n",
              "    box-shadow: 0 1px 2px rgba(60, 64, 67, 0.3), 0 1px 3px 1px rgba(60, 64, 67, 0.15);\n",
              "    fill: var(--button-hover-fill-color);\n",
              "  }\n",
              "\n",
              "  .colab-df-quickchart-complete:disabled,\n",
              "  .colab-df-quickchart-complete:disabled:hover {\n",
              "    background-color: var(--disabled-bg-color);\n",
              "    fill: var(--disabled-fill-color);\n",
              "    box-shadow: none;\n",
              "  }\n",
              "\n",
              "  .colab-df-spinner {\n",
              "    border: 2px solid var(--fill-color);\n",
              "    border-color: transparent;\n",
              "    border-bottom-color: var(--fill-color);\n",
              "    animation:\n",
              "      spin 1s steps(1) infinite;\n",
              "  }\n",
              "\n",
              "  @keyframes spin {\n",
              "    0% {\n",
              "      border-color: transparent;\n",
              "      border-bottom-color: var(--fill-color);\n",
              "      border-left-color: var(--fill-color);\n",
              "    }\n",
              "    20% {\n",
              "      border-color: transparent;\n",
              "      border-left-color: var(--fill-color);\n",
              "      border-top-color: var(--fill-color);\n",
              "    }\n",
              "    30% {\n",
              "      border-color: transparent;\n",
              "      border-left-color: var(--fill-color);\n",
              "      border-top-color: var(--fill-color);\n",
              "      border-right-color: var(--fill-color);\n",
              "    }\n",
              "    40% {\n",
              "      border-color: transparent;\n",
              "      border-right-color: var(--fill-color);\n",
              "      border-top-color: var(--fill-color);\n",
              "    }\n",
              "    60% {\n",
              "      border-color: transparent;\n",
              "      border-right-color: var(--fill-color);\n",
              "    }\n",
              "    80% {\n",
              "      border-color: transparent;\n",
              "      border-right-color: var(--fill-color);\n",
              "      border-bottom-color: var(--fill-color);\n",
              "    }\n",
              "    90% {\n",
              "      border-color: transparent;\n",
              "      border-bottom-color: var(--fill-color);\n",
              "    }\n",
              "  }\n",
              "</style>\n",
              "\n",
              "      <script>\n",
              "        async function quickchart(key) {\n",
              "          const quickchartButtonEl =\n",
              "            document.querySelector('#' + key + ' button');\n",
              "          quickchartButtonEl.disabled = true;  // To prevent multiple clicks.\n",
              "          quickchartButtonEl.classList.add('colab-df-spinner');\n",
              "          try {\n",
              "            const charts = await google.colab.kernel.invokeFunction(\n",
              "                'suggestCharts', [key], {});\n",
              "          } catch (error) {\n",
              "            console.error('Error during call to suggestCharts:', error);\n",
              "          }\n",
              "          quickchartButtonEl.classList.remove('colab-df-spinner');\n",
              "          quickchartButtonEl.classList.add('colab-df-quickchart-complete');\n",
              "        }\n",
              "        (() => {\n",
              "          let quickchartButtonEl =\n",
              "            document.querySelector('#df-ba0f8c3f-9b5c-40d1-b962-d75fbd297ec6 button');\n",
              "          quickchartButtonEl.style.display =\n",
              "            google.colab.kernel.accessAllowed ? 'block' : 'none';\n",
              "        })();\n",
              "      </script>\n",
              "    </div>\n",
              "\n",
              "    </div>\n",
              "  </div>\n"
            ],
            "application/vnd.google.colaboratory.intrinsic+json": {
              "type": "dataframe",
              "variable_name": "train_df"
            }
          },
          "metadata": {},
          "execution_count": 165
        }
      ]
    },
    {
      "cell_type": "code",
      "source": [
        "print(f\"Training data shape: {train_df.shape}\")"
      ],
      "metadata": {
        "colab": {
          "base_uri": "https://localhost:8080/"
        },
        "id": "t2dWaLMS7TBy",
        "outputId": "5e4bbb32-f3a0-48d5-f6d8-b0185b777b91"
      },
      "execution_count": null,
      "outputs": [
        {
          "output_type": "stream",
          "name": "stdout",
          "text": [
            "Training data shape: (42000, 785)\n"
          ]
        }
      ]
    },
    {
      "cell_type": "markdown",
      "source": [
        "**Spliting data into train and validation sets:**"
      ],
      "metadata": {
        "id": "TQTWBPxPDd6K"
      }
    },
    {
      "cell_type": "code",
      "source": [
        "X = train_df.drop(\"label\", axis=1)\n",
        "y = train_df[\"label\"]\n",
        "\n",
        "X_train, X_valid, y_train, y_valid = train_test_split(X, y, test_size=0.2,\n",
        "                                                      random_state=42)\n",
        "\n",
        "print(f\"X_train shape: {X_train.shape}\")\n",
        "print(f\"y_train shape: {y_train.shape}\")\n",
        "print(f\"X_valid shape: {X_valid.shape}\")\n",
        "print(f\"y_valid shape: {y_valid.shape}\")"
      ],
      "metadata": {
        "colab": {
          "base_uri": "https://localhost:8080/"
        },
        "id": "bYa5mAXZ-A2v",
        "outputId": "57d5f85b-c097-425b-fd2f-c97575b88f61"
      },
      "execution_count": null,
      "outputs": [
        {
          "output_type": "stream",
          "name": "stdout",
          "text": [
            "X_train shape: (33600, 784)\n",
            "y_train shape: (33600,)\n",
            "X_valid shape: (8400, 784)\n",
            "y_valid shape: (8400,)\n"
          ]
        }
      ]
    },
    {
      "cell_type": "markdown",
      "source": [
        "**Converting data into numpy array and normalizing them:**"
      ],
      "metadata": {
        "id": "CmpK5bMbDl-D"
      }
    },
    {
      "cell_type": "code",
      "source": [
        "X_train = np.array(X_train) / 255. # Normalizing it around the mean 255\n",
        "y_train = np.array(y_train)\n",
        "X_valid = np.array(X_valid) / 255.\n",
        "y_valid = np.array(y_valid)\n",
        "m, n = X_train.shape\n",
        "\n",
        "print(f\"Training lables shape: {y_train.shape}\")\n",
        "print(f\"Training data shape: {X_train.shape}\")\n",
        "print(f\"m: {m}, n: {n}\")"
      ],
      "metadata": {
        "id": "k64gg6P97Z4x",
        "colab": {
          "base_uri": "https://localhost:8080/"
        },
        "outputId": "77f22fdb-e828-44da-f5f0-508abc2366ba"
      },
      "execution_count": null,
      "outputs": [
        {
          "output_type": "stream",
          "name": "stdout",
          "text": [
            "Training lables shape: (33600,)\n",
            "Training data shape: (33600, 784)\n",
            "m: 33600, n: 784\n"
          ]
        }
      ]
    },
    {
      "cell_type": "markdown",
      "source": [
        "# Defining Functions for DNN"
      ],
      "metadata": {
        "id": "nmbe2QJXDwy7"
      }
    },
    {
      "cell_type": "markdown",
      "source": [
        "**Since the data should output 10 class, one for each digit, so it must be conerted to dummy variable (one hot encoded).**"
      ],
      "metadata": {
        "id": "l7VA6qL2D456"
      }
    },
    {
      "cell_type": "code",
      "source": [
        "def one_hot(y, num_class = 10):\n",
        "    return np.eye(num_class, dtype=np.float32)[y]\n",
        "\n",
        "y_train = one_hot(y_train.astype(int))"
      ],
      "metadata": {
        "id": "Jf0qz5sY-4gS"
      },
      "execution_count": null,
      "outputs": []
    },
    {
      "cell_type": "markdown",
      "source": [
        "**We are using He Normalizations technique for initializing our weights, to make learing faster and convenient.**"
      ],
      "metadata": {
        "id": "ZW_-5lIFELc7"
      }
    },
    {
      "cell_type": "code",
      "source": [
        "def init_param():\n",
        "    np.random.seed(1)\n",
        "    W1 = np.random.randn(128, 784).astype(np.float32) * np.sqrt(2. / 784)\n",
        "    b1 = np.zeros((128, 1), dtype = np.float32)\n",
        "    W2 = np.random.randn(64, 128).astype(np.float32) * np.sqrt(2. / 128)\n",
        "    b2 = np.zeros((64, 1), dtype=np.float32)\n",
        "    W3 = np.random.randn(10, 64).astype(np.float32) * np.sqrt(2. / 64)\n",
        "    b3 = np.zeros((10, 1), dtype=np.float32)\n",
        "    return {'W1': W1, 'b1': b1, 'W2': W2, 'b2': b2, 'W3': W3, 'b3': b3}"
      ],
      "metadata": {
        "id": "92RFPvts_WNy"
      },
      "execution_count": null,
      "outputs": []
    },
    {
      "cell_type": "markdown",
      "source": [
        "**Defining activation functions and its derivative, for forward and backward propogation:**"
      ],
      "metadata": {
        "id": "fo0Ht9SpEd0F"
      }
    },
    {
      "cell_type": "code",
      "source": [
        "def relu(Z):\n",
        "    return np.maximum(0, Z)\n",
        "\n",
        "def relu_deriv(Z):\n",
        "    return(Z > 0).astype(np.float32)\n",
        "\n",
        "def softmax(Z):\n",
        "    exp_Z = np.exp(Z - np.max(Z, axis=0, keepdims=True))\n",
        "    return exp_Z / np.sum(exp_Z, axis=0, keepdims=True)"
      ],
      "metadata": {
        "id": "fnM8BfBqCW-L"
      },
      "execution_count": null,
      "outputs": []
    },
    {
      "cell_type": "markdown",
      "source": [
        "**Forward Propogation:**"
      ],
      "metadata": {
        "id": "eVb2DQxBEoFq"
      }
    },
    {
      "cell_type": "code",
      "source": [
        "def forward_prop(X, params):\n",
        "    X = X.T\n",
        "\n",
        "    # Layer 1: Z1 = W1 * X + b1\n",
        "    Z1 = np.dot(params['W1'], X) + params['b1']\n",
        "    A1 = relu(Z1)\n",
        "\n",
        "    # Layer 2: Z2 = W2 * A1 + b2\n",
        "    Z2 = np.dot(params['W2'], A1) + params['b2']\n",
        "    A2 = relu(Z2)\n",
        "\n",
        "    # Layer 3: Z3 = W3 * A2 + b3\n",
        "    Z3 = np.dot(params['W3'], A2) + params['b3']\n",
        "    A3 = softmax(Z3)\n",
        "\n",
        "    return{\n",
        "        'Z1': Z1, 'A1': A1,\n",
        "        'Z2': Z2, 'A2': A2,\n",
        "        'Z3': Z3, 'A3': A3,\n",
        "        'X': X\n",
        "    }"
      ],
      "metadata": {
        "id": "7ISRFFBKDX0a"
      },
      "execution_count": null,
      "outputs": []
    },
    {
      "cell_type": "markdown",
      "source": [
        "**Loss Function:**</br>\n",
        "Using **Cross Entropy Loss** rather than Binary Loss Function since our data must output 10 different classes."
      ],
      "metadata": {
        "id": "up4n7Sz9EwVE"
      }
    },
    {
      "cell_type": "code",
      "source": [
        "def cross_entropy(y_pred, y_true):\n",
        "    m = y_true.shape[0]\n",
        "    log_probs = np.log(y_pred.T + 1e-8)\n",
        "    loss = -np.sum(y_true * log_probs) / m\n",
        "    return loss"
      ],
      "metadata": {
        "id": "Pmy42g2WE4Gl"
      },
      "execution_count": null,
      "outputs": []
    },
    {
      "cell_type": "markdown",
      "source": [
        "**Backward Propogation:**"
      ],
      "metadata": {
        "id": "xHE3vnvZFHf2"
      }
    },
    {
      "cell_type": "code",
      "source": [
        "def backward_prop(y_true, params, cache):\n",
        "    m = y_true.shape[0] #number of training instances\n",
        "\n",
        "    # Output layer gradients\n",
        "    dZ3 = cache['A3'] - y_true.T\n",
        "    dW3 = np.dot(dZ3, cache['A2'].T) / m\n",
        "    db3 = np.sum(dZ3, axis=1, keepdims=True) / m\n",
        "\n",
        "    # Hidden layer 2 gradients\n",
        "    dA2 = np.dot(params['W3'].T, dZ3)\n",
        "    dZ2 = dA2 * relu_deriv(cache['Z2'])\n",
        "    dW2 = np.dot(dZ2, cache['A1'].T) / m\n",
        "    db2 = np.sum(dZ2, axis=1, keepdims=True) / m\n",
        "\n",
        "    # Hidden layer 1 gradients\n",
        "    dA1 = np.dot(params['W2'].T, dZ2)\n",
        "    dZ1 = dA1 * relu_deriv(cache['Z1'])\n",
        "    dW1 = np.dot(dZ1, cache['X'].T) / m\n",
        "    db1 = np.sum(dZ1, axis=1, keepdims=True) / m\n",
        "\n",
        "    return {'dW3': dW3, 'db3': db3,\n",
        "            'dW2': dW2, 'db2': db2,\n",
        "            'dW1': dW1, 'db1': db1}"
      ],
      "metadata": {
        "id": "-cu6zALDG837"
      },
      "execution_count": null,
      "outputs": []
    },
    {
      "cell_type": "markdown",
      "source": [
        "**Updating Parameters:**"
      ],
      "metadata": {
        "id": "URlXo46vFL4L"
      }
    },
    {
      "cell_type": "code",
      "source": [
        "def update_params(params, grads, lr=0.01):\n",
        "    params['W1'] -= lr * grads['dW1']\n",
        "    params['b1'] -= lr * grads['db1']\n",
        "    params['W2'] -= lr * grads['dW2']\n",
        "    params['b2'] -= lr * grads['db2']\n",
        "    params['W3'] -= lr * grads['dW3']\n",
        "    params['b3'] -= lr * grads['db3']\n",
        "    return params"
      ],
      "metadata": {
        "id": "8TpMKakSIo0K"
      },
      "execution_count": null,
      "outputs": []
    },
    {
      "cell_type": "markdown",
      "source": [
        "**Difining model for training data with different steps:**"
      ],
      "metadata": {
        "id": "aqeaX-EUFRY3"
      }
    },
    {
      "cell_type": "code",
      "source": [
        "def train(X, y, epochs=10, batch_size=64, lr=0.01):\n",
        "    params = init_param()\n",
        "    n = X.shape[0]\n",
        "\n",
        "    for epoch in range(epochs):\n",
        "        # Shuffle Data\n",
        "        perm = np.random.permutation(n)\n",
        "        X_shuffled = X[perm]\n",
        "        y_shuffled = y[perm]\n",
        "\n",
        "        epoch_loss = 0\n",
        "        batches = 0\n",
        "\n",
        "        for i in range(0, n, batch_size):\n",
        "            # Mini batch\n",
        "            X_batch = X_shuffled[i : i + batch_size]\n",
        "            y_batch = y_shuffled[i : i + batch_size]\n",
        "\n",
        "            # Forward propogation\n",
        "            cache = forward_prop(X_batch, params)\n",
        "            loss = cross_entropy(cache['A3'], y_batch)\n",
        "            epoch_loss += loss\n",
        "\n",
        "            # Backward Propogation\n",
        "            grads = backward_prop(y_batch, params, cache)\n",
        "\n",
        "            # Update Parameters\n",
        "            params = update_params(params, grads, lr)\n",
        "            batches += 1\n",
        "\n",
        "        print(f\"Epoch {epoch+1} / {epochs}, Loss: {epoch_loss/batches:.4f}\")\n",
        "\n",
        "    return params"
      ],
      "metadata": {
        "id": "ss-lktOkNmgJ"
      },
      "execution_count": null,
      "outputs": []
    },
    {
      "cell_type": "markdown",
      "source": [
        "**Defining functions for prediction and evaluating the model's performance:**"
      ],
      "metadata": {
        "id": "T2dFZ7UwFiuc"
      }
    },
    {
      "cell_type": "code",
      "source": [
        "def predict(X, params):\n",
        "    cache = forward_prop(X, params)\n",
        "    return np.argmax(cache['A3'], axis=0)\n",
        "\n",
        "def accuracy(y_pred, y_true):\n",
        "    return np.mean(y_pred == y_true)"
      ],
      "metadata": {
        "id": "k1yjT6Nptm7t"
      },
      "execution_count": null,
      "outputs": []
    },
    {
      "cell_type": "markdown",
      "source": [
        "# Training & Evaluating"
      ],
      "metadata": {
        "id": "X50N-P9JF5Mi"
      }
    },
    {
      "cell_type": "code",
      "source": [
        "# Train Parameters\n",
        "trained_params = train(X_train, y_train, epochs=20)"
      ],
      "metadata": {
        "colab": {
          "base_uri": "https://localhost:8080/"
        },
        "id": "3COYDe91tSUV",
        "outputId": "798b0867-b220-4646-fed6-af96a185a773"
      },
      "execution_count": null,
      "outputs": [
        {
          "output_type": "stream",
          "name": "stdout",
          "text": [
            "Epoch 1 / 20, Loss: 1.1287\n",
            "Epoch 2 / 20, Loss: 0.4378\n",
            "Epoch 3 / 20, Loss: 0.3492\n",
            "Epoch 4 / 20, Loss: 0.3085\n",
            "Epoch 5 / 20, Loss: 0.2817\n",
            "Epoch 6 / 20, Loss: 0.2614\n",
            "Epoch 7 / 20, Loss: 0.2442\n",
            "Epoch 8 / 20, Loss: 0.2305\n",
            "Epoch 9 / 20, Loss: 0.2179\n",
            "Epoch 10 / 20, Loss: 0.2068\n",
            "Epoch 11 / 20, Loss: 0.1969\n",
            "Epoch 12 / 20, Loss: 0.1879\n",
            "Epoch 13 / 20, Loss: 0.1798\n",
            "Epoch 14 / 20, Loss: 0.1718\n",
            "Epoch 15 / 20, Loss: 0.1653\n",
            "Epoch 16 / 20, Loss: 0.1582\n",
            "Epoch 17 / 20, Loss: 0.1527\n",
            "Epoch 18 / 20, Loss: 0.1470\n",
            "Epoch 19 / 20, Loss: 0.1418\n",
            "Epoch 20 / 20, Loss: 0.1366\n"
          ]
        }
      ]
    },
    {
      "cell_type": "code",
      "source": [
        "# Test accuracy\n",
        "y_pred_valid = predict(X_valid, trained_params)\n",
        "acc = accuracy(y_pred_valid, y_valid)\n",
        "print(f\"Validation accuracy: {acc * 100:.2f}%\")"
      ],
      "metadata": {
        "colab": {
          "base_uri": "https://localhost:8080/"
        },
        "id": "RjS2vd4_9EFa",
        "outputId": "f8e788c1-40d0-4430-a830-95e409325d0c"
      },
      "execution_count": null,
      "outputs": [
        {
          "output_type": "stream",
          "name": "stdout",
          "text": [
            "Validation accuracy: 95.07%\n"
          ]
        }
      ]
    },
    {
      "cell_type": "markdown",
      "source": [
        "# Conclusion\n",
        "The project successfully demonstrates the implementation of a **3-layer DNN (128-64-10 architecture)** using only NumPy, achieving **~95% validation accuracy** on the MNIST dataset. This confirms that the model correctly learns hierarchical features from raw pixel data through forward and backward propagation.\n",
        "\n",
        "## Key Achievements:\n",
        "* **NumPy Proficiency:** The implementation reinforces understanding of matrix operations, gradient computations, and neural network mechanics.\n",
        "\n",
        "* **Performance:** The model's accuracy (~95%) is competitive with basic implementations using high-level frameworks, validating the correctness of the custom implementation.\n",
        "\n",
        "* **Modular Design:** Functions for initialization, activation, loss, and training are decoupled, making the code reusable and extensible.\n",
        "\n",
        "\n",
        "## Future Work:\n",
        "* **Hyperparameter Optimization:**\n",
        " * Experiment with learning rate schedules (e.g., exponential decay).\n",
        "\n",
        " * Adjust batch sizes and network depth/width for better performance.\n",
        "\n",
        "* **Advanced Techniques:**\n",
        "\n",
        " * Add **Batch Normalization** to accelerate training.\n",
        "\n",
        " * Implement **L2 Regularization** or **Dropout** to reduce overfitting.\n",
        "\n",
        "* **Architecture Improvements:**\n",
        "\n",
        " * Replace ReLU with **LeakyReLU** or **Swish** for potential accuracy gains.\n",
        "\n",
        " * Extend to **Convolutional Neural Networks (CNNs)** for spatial feature learning.\n",
        "\n",
        "* **Deployment:**\n",
        "\n",
        " * Convert the model to ONNX/TFLite for edge device deployment.\n",
        "\n",
        " * Build a web interface for real-time digit recognition.\n",
        "\n",
        "## Final Thoughts:\n",
        "This project serves as a strong foundation for deeper exploration into deep learning. By reimplementing core algorithms from scratch, we gain insights often abstracted away by high-level libraries. Future enhancements could bridge the gap between educational implementation and production-ready systems."
      ],
      "metadata": {
        "id": "Okbo0yDhJRvA"
      }
    },
    {
      "cell_type": "markdown",
      "source": [
        "## Contributor\n",
        "**Utkarsh Bhardwaj**  \n",
        "[![LinkedIn](https://img.shields.io/badge/LinkedIn-Utkarsh284-blue)](https://www.linkedin.com/in/utkarsh284/)\n",
        "[![GitHub](https://img.shields.io/badge/GitHub-utkarsh--284-lightgrey)](https://github.com/utkarsh-284)  \n",
        "**Contact**: ubhardwaj284@gmail.com  \n",
        "**Publish Date**: 8th June, 2025  \n"
      ],
      "metadata": {
        "id": "ngteoA2xHJnJ"
      }
    }
  ]
}